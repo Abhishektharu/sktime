{
 "cells": [
  {
   "cell_type": "markdown",
   "metadata": {},
   "source": [
    "# MLflow \n",
    "\n",
    "The sktime custom model flavor enables logging of sktime models in MLflow format via the `sktime.utils.mlflow_sktime.save_model()` and `sktime.utils.mlflow_sktime.log_model()` methods. These methods also add the `pyfunc` flavor to the MLflow Models that they produce, allowing the model to be interpreted as generic Python functions for inference via `sktime.utils.mlflow_sktime.pyfunc.load_model()`. This loaded PyFunc model can only be scored with a DataFrame input. You can also use the `sktime.utils.mlflow_sktime.load_model()` method to load MLflow Models with the sktime model flavor in native sktime formats.\n",
    "\n",
    "The `pyfunc` flavor of the model supports sktime predict methods `predict`,  `predict_interval`, `predict_quantiles` and `predict_var` for scitypes `\"Series\"` and `\"Panel\"`.\n",
    "\n",
    "The interface for utilizing a sktime model loaded as a `pyfunc` type for generating forecasts uses a *single-row* Pandas DataFrame configuration argument. The following columns in this configuration Pandas DataFrame are supported:\n",
    "\n",
    "\n",
    "* ``predict_method`` (optional) - a string (default: ``predict``) specifies the sktime predict method. \n",
    "    For example, if the objective is to compute prediction interval forecasts, set the column ``predict_method`` to ``predict_interval``.\n",
    "* ``X`` (optional) - exogenous regressor values as 2D or 3D numpy array of values for future time period events (default: ``None``). \n",
    "* ``fh`` (optional) - the forecasting horizon encoding the time stamps to be forecasted, optional (default: ``None``). \n",
    "* ``coverage`` (optional) - nominal coverage(s) of predictive interval(s) (default: ``0.90``), can only be used with ``predict_method=predict_interval``.\n",
    "* ``alpha`` (optional) - A probability or list of, at which quantile forecasts are computed (default: ``None``), can only be used with ``predict_method=predict_quantiles``.\n",
    "* ``cov`` (optional) - if True, computes covariance matrix forecast. if False, computes marginal variance forecasts. (default: ``False``), can only be used with ``predict_method=predict_var``.\n",
    "\n",
    "An example configuration for the ``pyfunc`` prediction interval forecast of a sktime model is shown below, with a forecast horizon of one to three periods and two prediction intervals:\n",
    "\n",
    "| predict_method      | fh | coverage    |\n",
    "| :---        |    :----   |          :--- |\n",
    "| predict_interval      | [1, 2, 3]      | [0.1, 0.9]   |\n",
    "\n",
    "Signature logging for sktime from a non-pyfunc artifact will not function correctly for `predict_interval` or `predict_quantiles`. The output of the native sktime model flavor for these methods is not a recognized signature type due to the MultiIndex column structure of the returned DataFrame. MLflow's ``infer_schema`` will function correctly if using the ``pyfunc`` flavor of the model, though."
   ]
  },
  {
   "cell_type": "markdown",
   "metadata": {},
   "source": [
    "## 1. Setup\n",
    "### 1.1 Config"
   ]
  },
  {
   "cell_type": "code",
   "execution_count": 9,
   "metadata": {},
   "outputs": [],
   "source": [
    "model_path = \"model\""
   ]
  },
  {
   "cell_type": "markdown",
   "metadata": {},
   "source": [
    "### 1.1 Imports"
   ]
  },
  {
   "cell_type": "code",
   "execution_count": 19,
   "metadata": {},
   "outputs": [],
   "source": [
    "import mlflow\n",
    "import pandas as pd\n",
    "\n",
    "from sktime.datasets import load_longley\n",
    "from sktime.datatypes import convert\n",
    "from sktime.forecasting.model_selection import temporal_train_test_split\n",
    "from sktime.forecasting.naive import NaiveForecaster\n",
    "from sktime.utils import mlflow_sktime"
   ]
  },
  {
   "cell_type": "markdown",
   "metadata": {},
   "source": [
    "### 1.2 Load sample data"
   ]
  },
  {
   "cell_type": "code",
   "execution_count": 25,
   "metadata": {},
   "outputs": [],
   "source": [
    "y, X = load_longley()\n",
    "y_train, y_test, X_train, X_test = temporal_train_test_split(y, X)\n",
    "\n",
    "# For utilizing sktime model in pyfunc flavor the exogenous regressor must be passed as a numpy array to configuration DataFrame  # noqa: E501\n",
    "X_test_array = convert(X_test, \"pd.DataFrame\", \"np.ndarray\")"
   ]
  },
  {
   "cell_type": "markdown",
   "metadata": {},
   "source": [
    "## 2. Example usage of `mlflow_sktime.save_model()`"
   ]
  },
  {
   "cell_type": "code",
   "execution_count": 22,
   "metadata": {},
   "outputs": [],
   "source": [
    "with mlflow.start_run():\n",
    "\n",
    "    forecaster = NaiveForecaster()\n",
    "    forecaster.fit(y_train, X_train)\n",
    "\n",
    "    mlflow_sktime.save_model(forecaster, model_path)"
   ]
  },
  {
   "cell_type": "markdown",
   "metadata": {},
   "source": [
    "# 3. Loading model in different flavors\n",
    "\n",
    "### 3.1 Native sktime flavor"
   ]
  },
  {
   "cell_type": "code",
   "execution_count": 27,
   "metadata": {},
   "outputs": [],
   "source": [
    "loaded_model = mlflow_sktime.load_model(model_path)"
   ]
  },
  {
   "cell_type": "markdown",
   "metadata": {},
   "source": [
    "### 3.2 Pyfunc flavor"
   ]
  },
  {
   "cell_type": "code",
   "execution_count": 28,
   "metadata": {},
   "outputs": [],
   "source": [
    "loaded_pyfunc = mlflow_sktime.pyfunc.load_model(model_path)"
   ]
  },
  {
   "cell_type": "markdown",
   "metadata": {},
   "source": [
    "## 4. Example usage of sktime `predict()`\n",
    "\n",
    "### 4.1 Native sktime flavor"
   ]
  },
  {
   "cell_type": "code",
   "execution_count": 31,
   "metadata": {},
   "outputs": [
    {
     "data": {
      "text/plain": [
       "1959    66513.0\n",
       "1960    66513.0\n",
       "1961    66513.0\n",
       "Freq: A-DEC, dtype: float64"
      ]
     },
     "execution_count": 31,
     "metadata": {},
     "output_type": "execute_result"
    }
   ],
   "source": [
    "predictions = loaded_model.predict(fh=[1, 2, 3], X=X_test)\n",
    "predictions"
   ]
  },
  {
   "cell_type": "markdown",
   "metadata": {},
   "source": [
    "### 4.2 Pyfunc flavor"
   ]
  },
  {
   "cell_type": "code",
   "execution_count": 32,
   "metadata": {},
   "outputs": [
    {
     "data": {
      "text/plain": [
       "1959    66513.0\n",
       "1960    66513.0\n",
       "1961    66513.0\n",
       "Freq: A-DEC, dtype: float64"
      ]
     },
     "execution_count": 32,
     "metadata": {},
     "output_type": "execute_result"
    }
   ],
   "source": [
    "prediction_conf = pd.DataFrame(\n",
    "    [\n",
    "        {\n",
    "            \"predict_method\": \"predict\",\n",
    "            \"fh\": [1, 2, 3],\n",
    "            \"coverage\": [0.1, 0.9],\n",
    "            \"X\": X_test_array,\n",
    "        }\n",
    "    ]\n",
    ")\n",
    "predictions = loaded_pyfunc.predict(prediction_conf)\n",
    "predictions"
   ]
  },
  {
   "cell_type": "markdown",
   "metadata": {},
   "source": [
    "## 5. Example usage of sktime `predict_interval()`\n",
    "\n",
    "### 5.1 Native sktime flavor"
   ]
  },
  {
   "cell_type": "code",
   "execution_count": 29,
   "metadata": {},
   "outputs": [
    {
     "data": {
      "text/html": [
       "<div>\n",
       "<style scoped>\n",
       "    .dataframe tbody tr th:only-of-type {\n",
       "        vertical-align: middle;\n",
       "    }\n",
       "\n",
       "    .dataframe tbody tr th {\n",
       "        vertical-align: top;\n",
       "    }\n",
       "\n",
       "    .dataframe thead tr th {\n",
       "        text-align: left;\n",
       "    }\n",
       "</style>\n",
       "<table border=\"1\" class=\"dataframe\">\n",
       "  <thead>\n",
       "    <tr>\n",
       "      <th></th>\n",
       "      <th colspan=\"4\" halign=\"left\">Coverage</th>\n",
       "    </tr>\n",
       "    <tr>\n",
       "      <th></th>\n",
       "      <th colspan=\"2\" halign=\"left\">0.1</th>\n",
       "      <th colspan=\"2\" halign=\"left\">0.9</th>\n",
       "    </tr>\n",
       "    <tr>\n",
       "      <th></th>\n",
       "      <th>lower</th>\n",
       "      <th>upper</th>\n",
       "      <th>lower</th>\n",
       "      <th>upper</th>\n",
       "    </tr>\n",
       "  </thead>\n",
       "  <tbody>\n",
       "    <tr>\n",
       "      <th>1959</th>\n",
       "      <td>66337.180592</td>\n",
       "      <td>66688.819408</td>\n",
       "      <td>64211.598663</td>\n",
       "      <td>68814.401337</td>\n",
       "    </tr>\n",
       "    <tr>\n",
       "      <th>1960</th>\n",
       "      <td>66264.353808</td>\n",
       "      <td>66761.646192</td>\n",
       "      <td>63258.327017</td>\n",
       "      <td>69767.672983</td>\n",
       "    </tr>\n",
       "    <tr>\n",
       "      <th>1961</th>\n",
       "      <td>66208.471852</td>\n",
       "      <td>66817.528148</td>\n",
       "      <td>62526.855956</td>\n",
       "      <td>70499.144044</td>\n",
       "    </tr>\n",
       "  </tbody>\n",
       "</table>\n",
       "</div>"
      ],
      "text/plain": [
       "          Coverage                                          \n",
       "               0.1                         0.9              \n",
       "             lower         upper         lower         upper\n",
       "1959  66337.180592  66688.819408  64211.598663  68814.401337\n",
       "1960  66264.353808  66761.646192  63258.327017  69767.672983\n",
       "1961  66208.471852  66817.528148  62526.855956  70499.144044"
      ]
     },
     "execution_count": 29,
     "metadata": {},
     "output_type": "execute_result"
    }
   ],
   "source": [
    "predictions = loaded_model.predict_interval(fh=[1, 2, 3], coverage=[0.1, 0.9], X=X_test)\n",
    "predictions"
   ]
  },
  {
   "cell_type": "markdown",
   "metadata": {},
   "source": [
    "### 5.2 Pyfunc flavor"
   ]
  },
  {
   "cell_type": "code",
   "execution_count": 30,
   "metadata": {},
   "outputs": [
    {
     "data": {
      "text/html": [
       "<div>\n",
       "<style scoped>\n",
       "    .dataframe tbody tr th:only-of-type {\n",
       "        vertical-align: middle;\n",
       "    }\n",
       "\n",
       "    .dataframe tbody tr th {\n",
       "        vertical-align: top;\n",
       "    }\n",
       "\n",
       "    .dataframe thead th {\n",
       "        text-align: right;\n",
       "    }\n",
       "</style>\n",
       "<table border=\"1\" class=\"dataframe\">\n",
       "  <thead>\n",
       "    <tr style=\"text-align: right;\">\n",
       "      <th></th>\n",
       "      <th>('Coverage', 0.1, 'lower')</th>\n",
       "      <th>('Coverage', 0.1, 'upper')</th>\n",
       "      <th>('Coverage', 0.9, 'lower')</th>\n",
       "      <th>('Coverage', 0.9, 'upper')</th>\n",
       "    </tr>\n",
       "  </thead>\n",
       "  <tbody>\n",
       "    <tr>\n",
       "      <th>1959</th>\n",
       "      <td>66337.180592</td>\n",
       "      <td>66688.819408</td>\n",
       "      <td>64211.598663</td>\n",
       "      <td>68814.401337</td>\n",
       "    </tr>\n",
       "    <tr>\n",
       "      <th>1960</th>\n",
       "      <td>66264.353808</td>\n",
       "      <td>66761.646192</td>\n",
       "      <td>63258.327017</td>\n",
       "      <td>69767.672983</td>\n",
       "    </tr>\n",
       "    <tr>\n",
       "      <th>1961</th>\n",
       "      <td>66208.471852</td>\n",
       "      <td>66817.528148</td>\n",
       "      <td>62526.855956</td>\n",
       "      <td>70499.144044</td>\n",
       "    </tr>\n",
       "  </tbody>\n",
       "</table>\n",
       "</div>"
      ],
      "text/plain": [
       "      ('Coverage', 0.1, 'lower')  ('Coverage', 0.1, 'upper')  \\\n",
       "1959                66337.180592                66688.819408   \n",
       "1960                66264.353808                66761.646192   \n",
       "1961                66208.471852                66817.528148   \n",
       "\n",
       "      ('Coverage', 0.9, 'lower')  ('Coverage', 0.9, 'upper')  \n",
       "1959                64211.598663                68814.401337  \n",
       "1960                63258.327017                69767.672983  \n",
       "1961                62526.855956                70499.144044  "
      ]
     },
     "execution_count": 30,
     "metadata": {},
     "output_type": "execute_result"
    }
   ],
   "source": [
    "prediction_conf = pd.DataFrame(\n",
    "    [\n",
    "        {\n",
    "            \"predict_method\": \"predict_interval\",\n",
    "            \"fh\": [1, 2, 3],\n",
    "            \"coverage\": [0.1, 0.9],\n",
    "            \"X\": X_test_array,\n",
    "        }\n",
    "    ]\n",
    ")\n",
    "predictions = loaded_pyfunc.predict(prediction_conf)\n",
    "predictions"
   ]
  },
  {
   "cell_type": "markdown",
   "metadata": {},
   "source": [
    "## 6. Example usage of sktime `predict_quantiles()`\n",
    "\n",
    "### 6.1 Native sktime flavor"
   ]
  },
  {
   "cell_type": "code",
   "execution_count": 35,
   "metadata": {},
   "outputs": [
    {
     "data": {
      "text/html": [
       "<div>\n",
       "<style scoped>\n",
       "    .dataframe tbody tr th:only-of-type {\n",
       "        vertical-align: middle;\n",
       "    }\n",
       "\n",
       "    .dataframe tbody tr th {\n",
       "        vertical-align: top;\n",
       "    }\n",
       "\n",
       "    .dataframe thead tr th {\n",
       "        text-align: left;\n",
       "    }\n",
       "</style>\n",
       "<table border=\"1\" class=\"dataframe\">\n",
       "  <thead>\n",
       "    <tr>\n",
       "      <th></th>\n",
       "      <th colspan=\"3\" halign=\"left\">Quantiles</th>\n",
       "    </tr>\n",
       "    <tr>\n",
       "      <th></th>\n",
       "      <th>0.1</th>\n",
       "      <th>0.5</th>\n",
       "      <th>0.9</th>\n",
       "    </tr>\n",
       "  </thead>\n",
       "  <tbody>\n",
       "    <tr>\n",
       "      <th>1959</th>\n",
       "      <td>64719.913711</td>\n",
       "      <td>66513.0</td>\n",
       "      <td>68306.086289</td>\n",
       "    </tr>\n",
       "    <tr>\n",
       "      <th>1960</th>\n",
       "      <td>63977.193051</td>\n",
       "      <td>66513.0</td>\n",
       "      <td>69048.806949</td>\n",
       "    </tr>\n",
       "    <tr>\n",
       "      <th>1961</th>\n",
       "      <td>63407.283445</td>\n",
       "      <td>66513.0</td>\n",
       "      <td>69618.716555</td>\n",
       "    </tr>\n",
       "  </tbody>\n",
       "</table>\n",
       "</div>"
      ],
      "text/plain": [
       "         Quantiles                       \n",
       "               0.1      0.5           0.9\n",
       "1959  64719.913711  66513.0  68306.086289\n",
       "1960  63977.193051  66513.0  69048.806949\n",
       "1961  63407.283445  66513.0  69618.716555"
      ]
     },
     "execution_count": 35,
     "metadata": {},
     "output_type": "execute_result"
    }
   ],
   "source": [
    "predictions = loaded_model.predict_quantiles(\n",
    "    fh=[1, 2, 3], alpha=[0.1, 0.5, 0.9], X=X_test\n",
    ")\n",
    "predictions"
   ]
  },
  {
   "cell_type": "markdown",
   "metadata": {},
   "source": [
    "### 6.2 Pyfunc flavor"
   ]
  },
  {
   "cell_type": "code",
   "execution_count": 36,
   "metadata": {},
   "outputs": [
    {
     "data": {
      "text/html": [
       "<div>\n",
       "<style scoped>\n",
       "    .dataframe tbody tr th:only-of-type {\n",
       "        vertical-align: middle;\n",
       "    }\n",
       "\n",
       "    .dataframe tbody tr th {\n",
       "        vertical-align: top;\n",
       "    }\n",
       "\n",
       "    .dataframe thead th {\n",
       "        text-align: right;\n",
       "    }\n",
       "</style>\n",
       "<table border=\"1\" class=\"dataframe\">\n",
       "  <thead>\n",
       "    <tr style=\"text-align: right;\">\n",
       "      <th></th>\n",
       "      <th>('Quantiles', 0.1)</th>\n",
       "      <th>('Quantiles', 0.5)</th>\n",
       "      <th>('Quantiles', 0.9)</th>\n",
       "    </tr>\n",
       "  </thead>\n",
       "  <tbody>\n",
       "    <tr>\n",
       "      <th>1959</th>\n",
       "      <td>64719.913711</td>\n",
       "      <td>66513.0</td>\n",
       "      <td>68306.086289</td>\n",
       "    </tr>\n",
       "    <tr>\n",
       "      <th>1960</th>\n",
       "      <td>63977.193051</td>\n",
       "      <td>66513.0</td>\n",
       "      <td>69048.806949</td>\n",
       "    </tr>\n",
       "    <tr>\n",
       "      <th>1961</th>\n",
       "      <td>63407.283445</td>\n",
       "      <td>66513.0</td>\n",
       "      <td>69618.716555</td>\n",
       "    </tr>\n",
       "  </tbody>\n",
       "</table>\n",
       "</div>"
      ],
      "text/plain": [
       "      ('Quantiles', 0.1)  ('Quantiles', 0.5)  ('Quantiles', 0.9)\n",
       "1959        64719.913711             66513.0        68306.086289\n",
       "1960        63977.193051             66513.0        69048.806949\n",
       "1961        63407.283445             66513.0        69618.716555"
      ]
     },
     "execution_count": 36,
     "metadata": {},
     "output_type": "execute_result"
    }
   ],
   "source": [
    "prediction_conf = pd.DataFrame(\n",
    "    [\n",
    "        {\n",
    "            \"predict_method\": \"predict_quantiles\",\n",
    "            \"fh\": [1, 2, 3],\n",
    "            \"alpha\": [0.1, 0.5, 0.9],\n",
    "            \"X\": X_test_array,\n",
    "        }\n",
    "    ]\n",
    ")\n",
    "predictions = loaded_pyfunc.predict(prediction_conf)\n",
    "predictions"
   ]
  },
  {
   "cell_type": "markdown",
   "metadata": {},
   "source": [
    "## 7. Example usage of sktime `predict_var()`\n",
    "\n",
    "### 7.1 Native sktime flavor"
   ]
  },
  {
   "cell_type": "code",
   "execution_count": 37,
   "metadata": {},
   "outputs": [
    {
     "data": {
      "text/html": [
       "<div>\n",
       "<style scoped>\n",
       "    .dataframe tbody tr th:only-of-type {\n",
       "        vertical-align: middle;\n",
       "    }\n",
       "\n",
       "    .dataframe tbody tr th {\n",
       "        vertical-align: top;\n",
       "    }\n",
       "\n",
       "    .dataframe thead th {\n",
       "        text-align: right;\n",
       "    }\n",
       "</style>\n",
       "<table border=\"1\" class=\"dataframe\">\n",
       "  <thead>\n",
       "    <tr style=\"text-align: right;\">\n",
       "      <th></th>\n",
       "      <th>0</th>\n",
       "    </tr>\n",
       "  </thead>\n",
       "  <tbody>\n",
       "    <tr>\n",
       "      <th>1959</th>\n",
       "      <td>1.957628e+06</td>\n",
       "    </tr>\n",
       "    <tr>\n",
       "      <th>1960</th>\n",
       "      <td>3.915256e+06</td>\n",
       "    </tr>\n",
       "    <tr>\n",
       "      <th>1961</th>\n",
       "      <td>5.872885e+06</td>\n",
       "    </tr>\n",
       "  </tbody>\n",
       "</table>\n",
       "</div>"
      ],
      "text/plain": [
       "                 0\n",
       "1959  1.957628e+06\n",
       "1960  3.915256e+06\n",
       "1961  5.872885e+06"
      ]
     },
     "execution_count": 37,
     "metadata": {},
     "output_type": "execute_result"
    }
   ],
   "source": [
    "predictions = loaded_model.predict_var(fh=[1, 2, 3], X=X_test)\n",
    "predictions"
   ]
  },
  {
   "cell_type": "code",
   "execution_count": 38,
   "metadata": {},
   "outputs": [
    {
     "data": {
      "text/html": [
       "<div>\n",
       "<style scoped>\n",
       "    .dataframe tbody tr th:only-of-type {\n",
       "        vertical-align: middle;\n",
       "    }\n",
       "\n",
       "    .dataframe tbody tr th {\n",
       "        vertical-align: top;\n",
       "    }\n",
       "\n",
       "    .dataframe thead th {\n",
       "        text-align: right;\n",
       "    }\n",
       "</style>\n",
       "<table border=\"1\" class=\"dataframe\">\n",
       "  <thead>\n",
       "    <tr style=\"text-align: right;\">\n",
       "      <th></th>\n",
       "      <th>0</th>\n",
       "    </tr>\n",
       "  </thead>\n",
       "  <tbody>\n",
       "    <tr>\n",
       "      <th>1959</th>\n",
       "      <td>1.957628e+06</td>\n",
       "    </tr>\n",
       "    <tr>\n",
       "      <th>1960</th>\n",
       "      <td>3.915256e+06</td>\n",
       "    </tr>\n",
       "    <tr>\n",
       "      <th>1961</th>\n",
       "      <td>5.872885e+06</td>\n",
       "    </tr>\n",
       "  </tbody>\n",
       "</table>\n",
       "</div>"
      ],
      "text/plain": [
       "                 0\n",
       "1959  1.957628e+06\n",
       "1960  3.915256e+06\n",
       "1961  5.872885e+06"
      ]
     },
     "execution_count": 38,
     "metadata": {},
     "output_type": "execute_result"
    }
   ],
   "source": [
    "prediction_conf = pd.DataFrame(\n",
    "    [{\"predict_method\": \"predict_var\", \"fh\": [1, 2, 3], \"X\": X_test_array}]\n",
    ")\n",
    "predictions = loaded_pyfunc.predict(prediction_conf)\n",
    "predictions"
   ]
  }
 ],
 "metadata": {
  "kernelspec": {
   "display_name": "Python 3 (ipykernel)",
   "language": "python",
   "name": "python3"
  },
  "language_info": {
   "codemirror_mode": {
    "name": "ipython",
    "version": 3
   },
   "file_extension": ".py",
   "mimetype": "text/x-python",
   "name": "python",
   "nbconvert_exporter": "python",
   "pygments_lexer": "ipython3",
   "version": "3.8.15"
  }
 },
 "nbformat": 4,
 "nbformat_minor": 2
}
